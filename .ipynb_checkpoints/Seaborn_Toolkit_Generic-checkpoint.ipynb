{
 "cells": [
  {
   "cell_type": "markdown",
   "id": "779f9444",
   "metadata": {},
   "source": [
    "# 📊 Seaborn Visualization Toolkit\n",
    "This notebook provides reusable Seaborn plots you can adapt to any dataset."
   ]
  },
  {
   "cell_type": "code",
   "execution_count": null,
   "id": "633ecbd4",
   "metadata": {},
   "outputs": [],
   "source": [
    "import pandas as pd\n",
    "import seaborn as sns\n",
    "import matplotlib.pyplot as plt\n",
    "\n",
    "# Seaborn style\n",
    "sns.set(style=\"whitegrid\")\n"
   ]
  },
  {
   "cell_type": "markdown",
   "id": "efc45ac7",
   "metadata": {},
   "source": [
    "## 🔹 Setup your DataFrame"
   ]
  },
  {
   "cell_type": "code",
   "execution_count": null,
   "id": "084e4c8e",
   "metadata": {},
   "outputs": [],
   "source": [
    "# Example:\n",
    "# df = pd.read_csv(\"your_data.csv\")\n",
    "# df.head()\n"
   ]
  },
  {
   "cell_type": "markdown",
   "id": "f65ea90d",
   "metadata": {},
   "source": [
    "## 🔹 Survival Distribution"
   ]
  },
  {
   "cell_type": "code",
   "execution_count": null,
   "id": "62f006b9",
   "metadata": {},
   "outputs": [],
   "source": [
    "sns.countplot(x='Survived', data=df)\n",
    "plt.title('Survival Distribution')\n",
    "plt.show()"
   ]
  },
  {
   "cell_type": "markdown",
   "id": "98635cd8",
   "metadata": {},
   "source": [
    "## 🔹 Survival by Category (e.g. Sex)"
   ]
  },
  {
   "cell_type": "code",
   "execution_count": null,
   "id": "bf6fa825",
   "metadata": {},
   "outputs": [],
   "source": [
    "sns.countplot(x='Sex', hue='Survived', data=df)\n",
    "plt.title('Survival by Category (e.g. Sex)')\n",
    "plt.show()"
   ]
  },
  {
   "cell_type": "markdown",
   "id": "d7fb1e83",
   "metadata": {},
   "source": [
    "## 🔹 Numerical Distribution by Category"
   ]
  },
  {
   "cell_type": "code",
   "execution_count": null,
   "id": "87051c9c",
   "metadata": {},
   "outputs": [],
   "source": [
    "sns.histplot(data=df, x='Age', hue='Survived', bins=30, kde=True)\n",
    "plt.title('Numerical Distribution by Category')\n",
    "plt.show()"
   ]
  },
  {
   "cell_type": "markdown",
   "id": "8d6497bc",
   "metadata": {},
   "source": [
    "## 🔹 Category vs Target"
   ]
  },
  {
   "cell_type": "code",
   "execution_count": null,
   "id": "fe6ace95",
   "metadata": {},
   "outputs": [],
   "source": [
    "sns.countplot(x='Pclass', hue='Survived', data=df)\n",
    "plt.title('Category vs Target')\n",
    "plt.show()"
   ]
  },
  {
   "cell_type": "markdown",
   "id": "245aed24",
   "metadata": {},
   "source": [
    "## 🔹 Boxplot of Numerical by Target"
   ]
  },
  {
   "cell_type": "code",
   "execution_count": null,
   "id": "de3e495d",
   "metadata": {},
   "outputs": [],
   "source": [
    "sns.boxplot(x='Survived', y='Fare', data=df)\n",
    "plt.title('Boxplot of Numerical by Target')\n",
    "plt.show()"
   ]
  },
  {
   "cell_type": "markdown",
   "id": "171b68c7",
   "metadata": {},
   "source": [
    "## 🔹 Barplot of Numeric Category"
   ]
  },
  {
   "cell_type": "code",
   "execution_count": null,
   "id": "735eefd4",
   "metadata": {},
   "outputs": [],
   "source": [
    "sns.barplot(x='SibSp', y='Survived', data=df)\n",
    "plt.title('Barplot of Numeric Category')\n",
    "plt.show()"
   ]
  },
  {
   "cell_type": "markdown",
   "id": "7ad86352",
   "metadata": {},
   "source": [
    "## 🔹 Multiple Barplots"
   ]
  },
  {
   "cell_type": "code",
   "execution_count": null,
   "id": "9f183d31",
   "metadata": {},
   "outputs": [],
   "source": [
    "sns.barplot(x='Parch', y='Survived', data=df)\n",
    "plt.title('Multiple Barplots')\n",
    "plt.show()"
   ]
  },
  {
   "cell_type": "markdown",
   "id": "38d30e2e",
   "metadata": {},
   "source": [
    "## 🔹 Countplot of Another Category"
   ]
  },
  {
   "cell_type": "code",
   "execution_count": null,
   "id": "a190dd89",
   "metadata": {},
   "outputs": [],
   "source": [
    "sns.countplot(x='Embarked', hue='Survived', data=df)\n",
    "plt.title('Countplot of Another Category')\n",
    "plt.show()"
   ]
  }
 ],
 "metadata": {},
 "nbformat": 4,
 "nbformat_minor": 5
}