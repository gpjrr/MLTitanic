{
 "cells": [
  {
   "cell_type": "markdown",
   "metadata": {},
   "source": [
    "# 🧠 Pandas + NumPy Cheat Sheet\n",
    "Quick reference with examples you can run."
   ]
  },
  {
   "cell_type": "markdown",
   "metadata": {},
   "source": [
    "## 📦 Pandas – Data Handling"
   ]
  },
  {
   "cell_type": "code",
   "execution_count": null,
   "metadata": {},
   "outputs": [
    {
     "ename": "",
     "evalue": "",
     "output_type": "error",
     "traceback": [
      "\u001b[1;31mRunning cells with 'Python 3.13.5' requires the ipykernel package.\n",
      "\u001b[1;31mInstall 'ipykernel' into the Python environment. \n",
      "\u001b[1;31mCommand: 'c:/Python313/python3.13t.exe -m pip install ipykernel -U --user --force-reinstall'"
     ]
    }
   ],
   "source": [
    "import pandas as pd\n",
    "\n",
    "# Load CSV\n",
    "df = pd.read_csv('Data\\train.csv')  # Replace with your file\n",
    "print(df.head())\n",
    "\n",
    "# Basic Info\n",
    "df.info()\n",
    "df.describe()\n",
    "print(df.columns)\n",
    "print(df.shape)\n",
    "\n",
    "# Accessing data\n",
    "print(df['Age'])             # Single column\n",
    "print(df[['Age', 'Sex']])    # Multiple columns\n",
    "print(df.iloc[0])            # Row by index\n",
    "print(df[df['Age'] > 30])    # Filter rows\n",
    "\n",
    "# Handling missing values\n",
    "print(df.isnull().sum())\n",
    "df = df.dropna()\n",
    "df = df.fillna(0)\n",
    "\n",
    "# Grouping & Sorting\n",
    "print(df.groupby('Sex').mean())\n",
    "df = df.sort_values('Age')\n",
    "\n",
    "# Merging\n",
    "# df2 = pd.read_csv('other.csv')\n",
    "# merged = pd.merge(df, df2, on='ID')"
   ]
  },
  {
   "cell_type": "markdown",
   "metadata": {},
   "source": [
    "## ➗ NumPy – Math & Arrays"
   ]
  },
  {
   "cell_type": "code",
   "execution_count": 5,
   "metadata": {},
   "outputs": [
    {
     "ename": "ModuleNotFoundError",
     "evalue": "No module named 'numpy'",
     "output_type": "error",
     "traceback": [
      "\u001b[31m---------------------------------------------------------------------------\u001b[39m",
      "\u001b[31mModuleNotFoundError\u001b[39m                       Traceback (most recent call last)",
      "\u001b[36mCell\u001b[39m\u001b[36m \u001b[39m\u001b[32mIn[5]\u001b[39m\u001b[32m, line 1\u001b[39m\n\u001b[32m----> \u001b[39m\u001b[32m1\u001b[39m \u001b[38;5;28;01mimport\u001b[39;00m\u001b[38;5;250m \u001b[39m\u001b[34;01mnumpy\u001b[39;00m\u001b[38;5;250m \u001b[39m\u001b[38;5;28;01mas\u001b[39;00m\u001b[38;5;250m \u001b[39m\u001b[34;01mnp\u001b[39;00m\n\u001b[32m      3\u001b[39m arr = np.array([\u001b[32m1\u001b[39m, \u001b[32m2\u001b[39m, \u001b[32m3\u001b[39m])\n\u001b[32m      4\u001b[39m \u001b[38;5;28mprint\u001b[39m(arr.shape)\n",
      "\u001b[31mModuleNotFoundError\u001b[39m: No module named 'numpy'"
     ]
    }
   ],
   "source": [
    "import numpy as np\n",
    "\n",
    "arr = np.array([1, 2, 3])\n",
    "print(arr.shape)\n",
    "\n",
    "matrix = np.array([[1, 2], [3, 4]])\n",
    "print(matrix.T)  # Transpose\n",
    "\n",
    "# Create arrays\n",
    "zeros = np.zeros((3, 3))\n",
    "ones = np.ones((2, 2))\n",
    "identity = np.eye(3)\n",
    "rand = np.random.rand(3)\n",
    "randint = np.random.randint(0, 10, 5)\n",
    "\n",
    "# Stats\n",
    "print(np.mean(arr))\n",
    "print(np.std(arr))\n",
    "print(np.sum(arr))\n",
    "print(np.max(arr))\n",
    "print(np.min(arr))\n",
    "\n",
    "# Filtering\n",
    "filtered = arr[arr > 1]\n",
    "print(filtered)"
   ]
  },
  {
   "cell_type": "markdown",
   "metadata": {},
   "source": [
    "## 📊 Matplotlib – Basic Visualization"
   ]
  },
  {
   "cell_type": "code",
   "execution_count": null,
   "metadata": {},
   "outputs": [],
   "source": [
    "import matplotlib.pyplot as plt\n",
    "\n",
    "x = [1, 2, 3, 4]\n",
    "y = [10, 20, 25, 30]\n",
    "\n",
    "plt.plot(x, y)\n",
    "plt.title('Line Plot')\n",
    "plt.xlabel('X Axis')\n",
    "plt.ylabel('Y Axis')\n",
    "plt.show()"
   ]
  }
 ],
 "metadata": {
  "kernelspec": {
   "display_name": "Python 3",
   "language": "python",
   "name": "python3"
  },
  "language_info": {
   "codemirror_mode": {
    "name": "ipython",
    "version": 3
   },
   "file_extension": ".py",
   "mimetype": "text/x-python",
   "name": "python",
   "nbconvert_exporter": "python",
   "pygments_lexer": "ipython3",
   "version": "3.13.5"
  }
 },
 "nbformat": 4,
 "nbformat_minor": 4
}
