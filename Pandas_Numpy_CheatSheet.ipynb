{
 "cells": [
  {
   "cell_type": "markdown",
   "metadata": {},
   "source": [
    "# 🧠 Pandas + NumPy Cheat Sheet\n",
    "Quick reference with examples you can run."
   ]
  },
  {
   "cell_type": "markdown",
   "metadata": {},
   "source": [
    "## 📦 Pandas – Data Handling"
   ]
  },
  {
   "cell_type": "code",
   "execution_count": null,
   "metadata": {},
   "outputs": [
    {
     "ename": "",
     "evalue": "",
     "output_type": "error",
     "traceback": [
      "\u001b[1;31mRunning cells with 'Python 3.13.5' requires the ipykernel package.\n",
      "\u001b[1;31m<a href='command:jupyter.createPythonEnvAndSelectController'>Create a Python Environment</a> with the required packages.\n",
      "\u001b[1;31mOr install 'ipykernel' using the command: 'c:/Python313/python3.13t.exe -m pip install ipykernel -U --user --force-reinstall'"
     ]
    }
   ],
   "source": [
    "import pandas as pd\n",
    "\n",
    "# Load CSV\n",
    "df = pd.read_csv('sample.csv')  # Replace with your file\n",
    "print(df.head())\n",
    "\n",
    "# Basic Info\n",
    "df.info()\n",
    "df.describe()\n",
    "print(df.columns)\n",
    "print(df.shape)\n",
    "\n",
    "# Accessing data\n",
    "print(df['Age'])             # Single column\n",
    "print(df[['Age', 'Sex']])    # Multiple columns\n",
    "print(df.iloc[0])            # Row by index\n",
    "print(df[df['Age'] > 30])    # Filter rows\n",
    "\n",
    "# Handling missing values\n",
    "print(df.isnull().sum())\n",
    "df = df.dropna()\n",
    "df = df.fillna(0)\n",
    "\n",
    "# Grouping & Sorting\n",
    "print(df.groupby('Sex').mean())\n",
    "df = df.sort_values('Age')\n",
    "\n",
    "# Merging\n",
    "# df2 = pd.read_csv('other.csv')\n",
    "# merged = pd.merge(df, df2, on='ID')"
   ]
  },
  {
   "cell_type": "markdown",
   "metadata": {},
   "source": [
    "## ➗ NumPy – Math & Arrays"
   ]
  },
  {
   "cell_type": "code",
   "execution_count": null,
   "metadata": {},
   "outputs": [],
   "source": [
    "import numpy as np\n",
    "\n",
    "arr = np.array([1, 2, 3])\n",
    "print(arr.shape)\n",
    "\n",
    "matrix = np.array([[1, 2], [3, 4]])\n",
    "print(matrix.T)  # Transpose\n",
    "\n",
    "# Create arrays\n",
    "zeros = np.zeros((3, 3))\n",
    "ones = np.ones((2, 2))\n",
    "identity = np.eye(3)\n",
    "rand = np.random.rand(3)\n",
    "randint = np.random.randint(0, 10, 5)\n",
    "\n",
    "# Stats\n",
    "print(np.mean(arr))\n",
    "print(np.std(arr))\n",
    "print(np.sum(arr))\n",
    "print(np.max(arr))\n",
    "print(np.min(arr))\n",
    "\n",
    "# Filtering\n",
    "filtered = arr[arr > 1]\n",
    "print(filtered)"
   ]
  },
  {
   "cell_type": "markdown",
   "metadata": {},
   "source": [
    "## 📊 Matplotlib – Basic Visualization"
   ]
  },
  {
   "cell_type": "code",
   "execution_count": null,
   "metadata": {},
   "outputs": [],
   "source": [
    "import matplotlib.pyplot as plt\n",
    "\n",
    "x = [1, 2, 3, 4]\n",
    "y = [10, 20, 25, 30]\n",
    "\n",
    "plt.plot(x, y)\n",
    "plt.title('Line Plot')\n",
    "plt.xlabel('X Axis')\n",
    "plt.ylabel('Y Axis')\n",
    "plt.show()"
   ]
  }
 ],
 "metadata": {
  "kernelspec": {
   "display_name": "Python 3",
   "language": "python",
   "name": "python3"
  },
  "language_info": {
   "name": "python",
   "version": "3.13.5"
  }
 },
 "nbformat": 4,
 "nbformat_minor": 4
}
